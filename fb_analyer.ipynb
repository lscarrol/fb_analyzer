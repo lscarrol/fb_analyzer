{
 "cells": [
  {
   "cell_type": "code",
   "execution_count": 191,
   "metadata": {},
   "outputs": [],
   "source": [
    "import json\n",
    "import string\n",
    "import numpy as np\n",
    "import pandas as pd\n",
    "import os\n",
    "import datetime\n",
    "import glob\n",
    "from jsonmerge import merge"
   ]
  },
  {
   "cell_type": "code",
   "execution_count": 100,
   "metadata": {},
   "outputs": [
    {
     "data": {
      "text/html": [
       "<div>\n",
       "<style scoped>\n",
       "    .dataframe tbody tr th:only-of-type {\n",
       "        vertical-align: middle;\n",
       "    }\n",
       "\n",
       "    .dataframe tbody tr th {\n",
       "        vertical-align: top;\n",
       "    }\n",
       "\n",
       "    .dataframe thead th {\n",
       "        text-align: right;\n",
       "    }\n",
       "</style>\n",
       "<table border=\"1\" class=\"dataframe\">\n",
       "  <thead>\n",
       "    <tr style=\"text-align: right;\">\n",
       "      <th></th>\n",
       "      <th>Time</th>\n",
       "      <th>Liam</th>\n",
       "      <th>John</th>\n",
       "      <th>Josh</th>\n",
       "      <th>Kaya</th>\n",
       "      <th>Andrew</th>\n",
       "      <th>Alex</th>\n",
       "    </tr>\n",
       "  </thead>\n",
       "  <tbody>\n",
       "  </tbody>\n",
       "</table>\n",
       "</div>"
      ],
      "text/plain": [
       "Empty DataFrame\n",
       "Columns: [Time, Liam, John, Josh, Kaya, Andrew, Alex]\n",
       "Index: []"
      ]
     },
     "execution_count": 100,
     "metadata": {},
     "output_type": "execute_result"
    }
   ],
   "source": [
    "df = pd.DataFrame(columns=['Time','Liam', 'John', 'Josh', 'Kaya', 'Andrew', 'Alex'])"
   ]
  },
  {
   "cell_type": "code",
   "execution_count": 153,
   "metadata": {},
   "outputs": [],
   "source": [
    "def time_converter_json(ts):\n",
    "    ts = datetime.datetime.fromtimestamp(ts / 1000)\n",
    "    time = str(ts.year) + '.' + str(ts.month) + '.' + str(ts.day) + ', ' + str(ts.hour) + ':' + str(ts.minute) + ':' + str(ts.second)\n",
    "    return time"
   ]
  },
  {
   "cell_type": "code",
   "execution_count": 192,
   "metadata": {},
   "outputs": [],
   "source": [
    "def setarrays(data):\n",
    "    liam = []\n",
    "    john = []\n",
    "    josh = []\n",
    "    kaya = []\n",
    "    drew = []\n",
    "    alex = []\n",
    "    for msg in data['messages']:\n",
    "        try:\n",
    "            content = msg['content']\n",
    "            content = content.translate(str.maketrans('', '', string.punctuation))\n",
    "            content = content.lower()\n",
    "            # content = content.encode('utf8')\n",
    "            if msg['sender_name'] == 'Liam Carroll':\n",
    "                liam.append(content)\n",
    "            elif msg['sender_name'] == 'John Ney':\n",
    "                john.append(content)\n",
    "            elif msg['sender_name'] == 'Josh Slizinov':\n",
    "                josh.append(content)\n",
    "            elif msg['sender_name'] == 'Kaya Manganello Ramirez':\n",
    "                kaya.append(content)\n",
    "            elif msg['sender_name'] == 'Andrew Pokorny':\n",
    "                drew.append(content)\n",
    "            elif msg['sender_name'] == 'Alexander Hu':\n",
    "                alex.append(content)\n",
    "        except KeyError:\n",
    "            pass\n",
    "    df = np.array([liam, john, josh, kaya, drew, alex])\n",
    "    return df"
   ]
  },
  {
   "cell_type": "code",
   "execution_count": 141,
   "metadata": {},
   "outputs": [],
   "source": [
    "def setfile(data):\n",
    "    liam = open('fb/pr/liam_dump.txt', 'ab')\n",
    "    john = open('fb/pr/john_dump.txt', 'ab')\n",
    "    kaya = open('fb/pr/kaya_dump1.txt', 'ab')\n",
    "    alex = open('fb/pr/alex_dump.txt', 'ab')\n",
    "    josh = open('fb/pr/josh_dump.txt', 'ab')\n",
    "    drew = open('fb/pr/drew_dump.txt', 'ab')\n",
    "    for msg in data['messages']:\n",
    "        ts = time_converter_json(msg['timestamp_ms'])\n",
    "        time = ts\n",
    "        try:\n",
    "            content = msg['content']\n",
    "            content = time + ' ' + content + \"\\n\"\n",
    "            content = content.encode('utf8')\n",
    "            if msg['sender_name'] == 'Liam Carroll':\n",
    "                # f = open('fb/pr/liam_dump.txt', 'wb')\n",
    "                liam.write(content)\n",
    "                #f.close()\n",
    "            elif msg['sender_name'] == 'John Ney':\n",
    "                # f = open('fb/pr/john_dump.txt', 'wb')\n",
    "                john.write(content)\n",
    "                #f.close()\n",
    "        \n",
    "            elif msg['sender_name'] == 'Kaya Manganello Ramirez':\n",
    "                # f = open('fb/pr/kaya_dump.txt', 'wb')\n",
    "                kaya.write(content)\n",
    "                #f.close()\n",
    "                \n",
    "            elif msg['sender_name'] == 'Alexander Hu':\n",
    "                # f = open('fb/pr/alex_dump.txt', 'wb')\n",
    "                alex.write(content)\n",
    "                #f.close()\n",
    "                \n",
    "            elif msg['sender_name'] == 'Josh Slizinov':\n",
    "                # f = open('fb/pr/josh_dump.txt', 'wb')\n",
    "                josh.write(content)\n",
    " \n",
    "                \n",
    "            elif msg['sender_name'] == 'Andrew Pokorny':\n",
    "                # f = open('fb/pr/drew_dump.txt', 'wb')\n",
    "                drew.write(content)\n",
    "                \n",
    "        except KeyError:\n",
    "            pass\n",
    "    liam.close()\n",
    "    john.close()\n",
    "    kaya.close()\n",
    "    alex.close()\n",
    "    josh.close()\n",
    "    drew.close()"
   ]
  },
  {
   "cell_type": "code",
   "execution_count": 142,
   "metadata": {},
   "outputs": [
    {
     "name": "stdout",
     "output_type": "stream",
     "text": [
      "message_0.json\n",
      "message_1.json\n",
      "message_2.json\n",
      "message_3.json\n",
      "message_4.json\n",
      "message_5.json\n",
      "message_6.json\n",
      "message_7.json\n",
      "message_8.json\n",
      "message_9.json\n",
      "donzo\n"
     ]
    }
   ],
   "source": [
    "c_root = 'fb/messages/inbox/ProfessionalRollers_VXAWdzgQDw/mesg'\n",
    "for f in os.listdir(c_root):\n",
    "    print(f)\n",
    "    data = json.load(open(os.path.join(c_root, f), 'r'))\n",
    "    setfile(data)\n",
    "print('donzo')"
   ]
  },
  {
   "cell_type": "code",
   "execution_count": 225,
   "metadata": {},
   "outputs": [
    {
     "name": "stdout",
     "output_type": "stream",
     "text": [
      "donzo\n"
     ]
    }
   ],
   "source": [
    "dq = []\n",
    "for f in os.listdir(c_root):\n",
    "    data = json.load(open(os.path.join(c_root, f), 'r'))\n",
    "    if len(dq) == 0:\n",
    "        dq = setarrays(data)\n",
    "    else:\n",
    "        dq = np.append(dq, setarrays(data))\n",
    "print('donzo')\n",
    "dq = np.array(dq)\n",
    "#print(dq[0])\n",
    "df = pd.DataFrame({'Liam': dq[0]})\n",
    "df = pd.concat([df, pd.DataFrame({'John': dq[1]})], axis=1)\n",
    "df = pd.concat([df, pd.DataFrame({'Josh': dq[2]})], axis=1)\n",
    "df = pd.concat([df, pd.DataFrame({'Kaya': dq[3]})], axis=1)\n",
    "df = pd.concat([df, pd.DataFrame({'Andrew': dq[4]})], axis=1)\n",
    "df = pd.concat([df, pd.DataFrame({'Alex': dq[5]})], axis=1)\n",
    "\n",
    "liam_fq = df.Liam.str.split(expand=True).stack().value_counts()\n",
    "john_fq = df.John.str.split(expand=True).stack().value_counts()\n",
    "josh_fq = df.Josh.str.split(expand=True).stack().value_counts()\n",
    "kaya_fq = df.Kaya.str.split(expand=True).stack().value_counts()\n",
    "drew_fq = df.Andrew.str.split(expand=True).stack().value_counts()\n",
    "alex_fq = df.Alex.str.split(expand=True).stack().value_counts()\n",
    "\n",
    "liam_top = pd.DataFrame({'Liam Top Words': liam_fq.head(100)})\n",
    "john_top = pd.DataFrame({'John Top Words': john_fq.head(100)})\n",
    "josh_top = pd.DataFrame({'Josh Top Words': josh_fq.head(100)})\n",
    "kaya_top = pd.DataFrame({'Kaya Top Words': kaya_fq.head(100)})\n",
    "drew_top = pd.DataFrame({'Andrew Top Words': drew_fq.head(100)})\n",
    "alex_top = pd.DataFrame({'Alex Top Words': alex_fq.head(100)})\n",
    "liam_top\n",
    "john_top.to_csv('john.csv', index=True, header=True)\n",
    "josh_top.to_csv('josh.csv', index=True, header=True)\n",
    "kaya_top.to_csv('kaya.csv', index=True, header=True)\n",
    "drew_top.to_csv('drew.csv', index=True, header=True)\n",
    "alex_top.to_csv('alex.csv', index=True, header=True)"
   ]
  },
  {
   "cell_type": "code",
   "execution_count": 127,
   "metadata": {},
   "outputs": [],
   "source": []
  },
  {
   "cell_type": "code",
   "execution_count": 129,
   "metadata": {},
   "outputs": [
    {
     "name": "stdout",
     "output_type": "stream",
     "text": [
      "2020.1.30, 0:19:48\n"
     ]
    }
   ],
   "source": [
    "print(time_converter_json(1580361588516))"
   ]
  },
  {
   "cell_type": "code",
   "execution_count": null,
   "metadata": {},
   "outputs": [],
   "source": []
  }
 ],
 "metadata": {
  "kernelspec": {
   "display_name": "Python 3",
   "language": "python",
   "name": "python3"
  },
  "language_info": {
   "codemirror_mode": {
    "name": "ipython",
    "version": 3
   },
   "file_extension": ".py",
   "mimetype": "text/x-python",
   "name": "python",
   "nbconvert_exporter": "python",
   "pygments_lexer": "ipython3",
   "version": "3.7.4"
  }
 },
 "nbformat": 4,
 "nbformat_minor": 2
}
